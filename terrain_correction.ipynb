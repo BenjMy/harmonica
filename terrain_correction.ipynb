{
 "cells": [
  {
   "cell_type": "code",
   "execution_count": 15,
   "metadata": {},
   "outputs": [],
   "source": [
    "import boule as bl\n",
    "import harmonica as hm\n",
    "import verde as vd\n",
    "import numpy as np"
   ]
  },
  {
   "cell_type": "code",
   "execution_count": 65,
   "metadata": {},
   "outputs": [
    {
     "data": {
      "text/html": [
       "<pre>&lt;xarray.Dataset&gt;\n",
       "Dimensions:     (latitude: 37, longitude: 73)\n",
       "Coordinates:\n",
       "  * longitude   (longitude) float64 -180.0 -175.0 -170.0 ... 170.0 175.0 180.0\n",
       "  * latitude    (latitude) float64 -90.0 -85.0 -80.0 -75.0 ... 80.0 85.0 90.0\n",
       "Data variables:\n",
       "    topography  (latitude, longitude) float64 2.762e+03 2.762e+03 ... -4.179e+03</pre>"
      ],
      "text/plain": [
       "<xarray.Dataset>\n",
       "Dimensions:     (latitude: 37, longitude: 73)\n",
       "Coordinates:\n",
       "  * longitude   (longitude) float64 -180.0 -175.0 -170.0 ... 170.0 175.0 180.0\n",
       "  * latitude    (latitude) float64 -90.0 -85.0 -80.0 -75.0 ... 80.0 85.0 90.0\n",
       "Data variables:\n",
       "    topography  (latitude, longitude) float64 2.762e+03 2.762e+03 ... -4.179e+03"
      ]
     },
     "execution_count": 65,
     "metadata": {},
     "output_type": "execute_result"
    }
   ],
   "source": [
    "topography = hm.datasets.fetch_topography_earth().loc[dict(longitude=slice(-180, 180, 10), latitude=slice(-90, 90, 10))]\n",
    "topography"
   ]
  },
  {
   "cell_type": "code",
   "execution_count": 66,
   "metadata": {},
   "outputs": [],
   "source": [
    "ellipsoid = bl.WGS84"
   ]
  },
  {
   "cell_type": "code",
   "execution_count": 67,
   "metadata": {},
   "outputs": [],
   "source": [
    "topo = vd.grid_to_table(topography)"
   ]
  },
  {
   "cell_type": "code",
   "execution_count": 68,
   "metadata": {},
   "outputs": [],
   "source": [
    "dlats = topography.latitude.values[1:] - topography.latitude.values[:-1]\n",
    "dlons = topography.longitude.values[1:] - topography.longitude.values[:-1]\n",
    "dlon = dlons[0]\n",
    "dlat = dlats[0]\n",
    "assert np.allclose(dlons, dlon)\n",
    "assert np.allclose(dlats, dlat)"
   ]
  },
  {
   "cell_type": "code",
   "execution_count": 83,
   "metadata": {},
   "outputs": [],
   "source": [
    "west = topography.longitude.values - dlon/2\n",
    "east = topography.longitude.values + dlon/2\n",
    "west[west > 360] = 360\n",
    "west[west < -180] = -180\n",
    "east[east > 360] = 360\n",
    "east[east < -180] = -180\n",
    "south = topography.latitude.values - dlat/2\n",
    "south[south > 90] = 90\n",
    "south[south < -90] = -90\n",
    "north = topography.latitude.values + dlat/2\n",
    "north[north > 90] = 90\n",
    "north[north < -90] = -90\n",
    "reference = ellipsoid.geodetic_to_spherical(None, topo.latitude, np.zeros_like(topo.latitude))[2]\n",
    "radius = ellipsoid.geodetic_to_spherical(None, topo.latitude, topo.topography)[2]\n",
    "index = np.arange(radius.size)"
   ]
  },
  {
   "cell_type": "code",
   "execution_count": 84,
   "metadata": {},
   "outputs": [],
   "source": [
    "coordinates = ellipsoid.geodetic_to_spherical(topo.longitude, topo.latitude, np.full_like(topo.latitude, 100e3))"
   ]
  },
  {
   "cell_type": "code",
   "execution_count": 85,
   "metadata": {},
   "outputs": [],
   "source": [
    "zero_height = np.zeros_like(north)\n",
    "north_sph = ellipsoid.geodetic_to_spherical(None, north, zero_height)[1]\n",
    "south_sph = ellipsoid.geodetic_to_spherical(None, south, zero_height)[1]"
   ]
  },
  {
   "cell_type": "code",
   "execution_count": 86,
   "metadata": {},
   "outputs": [],
   "source": [
    "shape = topography.topography.shape"
   ]
  },
  {
   "cell_type": "code",
   "execution_count": 87,
   "metadata": {},
   "outputs": [
    {
     "ename": "ValueError",
     "evalue": "Invalid tesseroid or tesseroids. The bottom radius boundary can't be greater than the top one.\n\tInvalid tesseroid: [-1.80000000e+02 -1.77500000e+02 -8.25000000e+01 -7.75000000e+01\n  6.35691611e+06  6.35682711e+06]\n\tInvalid tesseroid: [-1.77500000e+02 -1.72500000e+02 -8.25000000e+01 -7.75000000e+01\n  6.35675231e+06  6.35673831e+06]\n",
     "output_type": "error",
     "traceback": [
      "\u001b[0;31m---------------------------------------------------------------------------\u001b[0m",
      "\u001b[0;31mValueError\u001b[0m                                Traceback (most recent call last)",
      "\u001b[0;32m<ipython-input-87-cbe9e195678f>\u001b[0m in \u001b[0;36m<module>\u001b[0;34m\u001b[0m\n\u001b[1;32m      8\u001b[0m         \u001b[0mtesseroids\u001b[0m\u001b[0;34m.\u001b[0m\u001b[0mappend\u001b[0m\u001b[0;34m(\u001b[0m\u001b[0;34m[\u001b[0m\u001b[0mwest\u001b[0m\u001b[0;34m[\u001b[0m\u001b[0mj\u001b[0m\u001b[0;34m]\u001b[0m\u001b[0;34m,\u001b[0m \u001b[0meast\u001b[0m\u001b[0;34m[\u001b[0m\u001b[0mj\u001b[0m\u001b[0;34m]\u001b[0m\u001b[0;34m,\u001b[0m \u001b[0msouth\u001b[0m\u001b[0;34m[\u001b[0m\u001b[0mi\u001b[0m\u001b[0;34m]\u001b[0m\u001b[0;34m,\u001b[0m \u001b[0mnorth\u001b[0m\u001b[0;34m[\u001b[0m\u001b[0mi\u001b[0m\u001b[0;34m]\u001b[0m\u001b[0;34m,\u001b[0m \u001b[0mreference\u001b[0m\u001b[0;34m[\u001b[0m\u001b[0mt\u001b[0m\u001b[0;34m]\u001b[0m\u001b[0;34m,\u001b[0m \u001b[0mradius\u001b[0m\u001b[0;34m[\u001b[0m\u001b[0mt\u001b[0m\u001b[0;34m]\u001b[0m\u001b[0;34m]\u001b[0m\u001b[0;34m)\u001b[0m\u001b[0;34m\u001b[0m\u001b[0;34m\u001b[0m\u001b[0m\n\u001b[1;32m      9\u001b[0m     \u001b[0mdensity\u001b[0m \u001b[0;34m=\u001b[0m \u001b[0mnp\u001b[0m\u001b[0;34m.\u001b[0m\u001b[0mfull_like\u001b[0m\u001b[0;34m(\u001b[0m\u001b[0mbatch\u001b[0m\u001b[0;34m,\u001b[0m \u001b[0;36m2670\u001b[0m\u001b[0;34m)\u001b[0m\u001b[0;34m\u001b[0m\u001b[0;34m\u001b[0m\u001b[0m\n\u001b[0;32m---> 10\u001b[0;31m     \u001b[0mfield\u001b[0m \u001b[0;34m+=\u001b[0m \u001b[0mhm\u001b[0m\u001b[0;34m.\u001b[0m\u001b[0mtesseroid_gravity\u001b[0m\u001b[0;34m(\u001b[0m\u001b[0mcoordinates\u001b[0m\u001b[0;34m,\u001b[0m \u001b[0mtesseroids\u001b[0m\u001b[0;34m,\u001b[0m \u001b[0mfield\u001b[0m\u001b[0;34m=\u001b[0m\u001b[0;34m\"g_z\"\u001b[0m\u001b[0;34m,\u001b[0m \u001b[0mdensity\u001b[0m\u001b[0;34m=\u001b[0m\u001b[0mdensity\u001b[0m\u001b[0;34m)\u001b[0m\u001b[0;34m\u001b[0m\u001b[0;34m\u001b[0m\u001b[0m\n\u001b[0m\u001b[1;32m     11\u001b[0m \u001b[0;34m\u001b[0m\u001b[0m\n",
      "\u001b[0;32m~/src/harmonica/harmonica/forward/tesseroid.py\u001b[0m in \u001b[0;36mtesseroid_gravity\u001b[0;34m(coordinates, tesseroids, density, field, distance_size_ratii, glq_degrees, stack_size, max_discretizations, radial_adaptive_discretization, dtype, disable_checks)\u001b[0m\n\u001b[1;32m    155\u001b[0m                 \u001b[0;34m+\u001b[0m \u001b[0;34m\"mismatch the number of tesseroids ({})\"\u001b[0m\u001b[0;34m.\u001b[0m\u001b[0mformat\u001b[0m\u001b[0;34m(\u001b[0m\u001b[0mtesseroids\u001b[0m\u001b[0;34m.\u001b[0m\u001b[0mshape\u001b[0m\u001b[0;34m[\u001b[0m\u001b[0;36m0\u001b[0m\u001b[0;34m]\u001b[0m\u001b[0;34m)\u001b[0m\u001b[0;34m\u001b[0m\u001b[0;34m\u001b[0m\u001b[0m\n\u001b[1;32m    156\u001b[0m             )\n\u001b[0;32m--> 157\u001b[0;31m         \u001b[0mtesseroids\u001b[0m \u001b[0;34m=\u001b[0m \u001b[0m_check_tesseroids\u001b[0m\u001b[0;34m(\u001b[0m\u001b[0mtesseroids\u001b[0m\u001b[0;34m)\u001b[0m\u001b[0;34m\u001b[0m\u001b[0;34m\u001b[0m\u001b[0m\n\u001b[0m\u001b[1;32m    158\u001b[0m         \u001b[0m_check_points_outside_tesseroids\u001b[0m\u001b[0;34m(\u001b[0m\u001b[0mcoordinates\u001b[0m\u001b[0;34m,\u001b[0m \u001b[0mtesseroids\u001b[0m\u001b[0;34m)\u001b[0m\u001b[0;34m\u001b[0m\u001b[0;34m\u001b[0m\u001b[0m\n\u001b[1;32m    159\u001b[0m     \u001b[0;31m# Get value of D (distance_size_ratio)\u001b[0m\u001b[0;34m\u001b[0m\u001b[0;34m\u001b[0m\u001b[0;34m\u001b[0m\u001b[0m\n",
      "\u001b[0;32m~/src/harmonica/harmonica/forward/tesseroid.py\u001b[0m in \u001b[0;36m_check_tesseroids\u001b[0;34m(tesseroids)\u001b[0m\n\u001b[1;32m    635\u001b[0m         \u001b[0;32mfor\u001b[0m \u001b[0mtess\u001b[0m \u001b[0;32min\u001b[0m \u001b[0mtesseroids\u001b[0m\u001b[0;34m[\u001b[0m\u001b[0minvalid\u001b[0m\u001b[0;34m]\u001b[0m\u001b[0;34m:\u001b[0m\u001b[0;34m\u001b[0m\u001b[0;34m\u001b[0m\u001b[0m\n\u001b[1;32m    636\u001b[0m             \u001b[0merr_msg\u001b[0m \u001b[0;34m+=\u001b[0m \u001b[0;34m\"\\tInvalid tesseroid: {}\\n\"\u001b[0m\u001b[0;34m.\u001b[0m\u001b[0mformat\u001b[0m\u001b[0;34m(\u001b[0m\u001b[0mtess\u001b[0m\u001b[0;34m)\u001b[0m\u001b[0;34m\u001b[0m\u001b[0;34m\u001b[0m\u001b[0m\n\u001b[0;32m--> 637\u001b[0;31m         \u001b[0;32mraise\u001b[0m \u001b[0mValueError\u001b[0m\u001b[0;34m(\u001b[0m\u001b[0merr_msg\u001b[0m\u001b[0;34m)\u001b[0m\u001b[0;34m\u001b[0m\u001b[0;34m\u001b[0m\u001b[0m\n\u001b[0m\u001b[1;32m    638\u001b[0m     \u001b[0;31m# Check if longitudinal boundaries are inside the [-180, 360] interval\u001b[0m\u001b[0;34m\u001b[0m\u001b[0;34m\u001b[0m\u001b[0;34m\u001b[0m\u001b[0m\n\u001b[1;32m    639\u001b[0m     invalid = np.logical_or(\n",
      "\u001b[0;31mValueError\u001b[0m: Invalid tesseroid or tesseroids. The bottom radius boundary can't be greater than the top one.\n\tInvalid tesseroid: [-1.80000000e+02 -1.77500000e+02 -8.25000000e+01 -7.75000000e+01\n  6.35691611e+06  6.35682711e+06]\n\tInvalid tesseroid: [-1.77500000e+02 -1.72500000e+02 -8.25000000e+01 -7.75000000e+01\n  6.35675231e+06  6.35673831e+06]\n"
     ]
    }
   ],
   "source": [
    "batch_size = 10\n",
    "batches = [index[i:i + batch_size] for i in range(0, index.size, batch_size)]\n",
    "field = np.zeros_like(topo.topography)\n",
    "for batch in batches:\n",
    "    tesseroids = []\n",
    "    for t in batch:\n",
    "        i, j = np.unravel_index(t, shape)\n",
    "        tesseroids.append([west[j], east[j], south[i], north[i], reference[t], radius[t]])\n",
    "    density = np.full_like(batch, 2670)\n",
    "    field += hm.tesseroid_gravity(coordinates, tesseroids, field=\"g_z\", density=density)\n",
    "    "
   ]
  },
  {
   "cell_type": "code",
   "execution_count": 79,
   "metadata": {},
   "outputs": [
    {
     "data": {
      "text/plain": [
       "(array([0, 0, 0, 0, 0, 0, 0, 0, 0, 0]), array([0, 1, 2, 3, 4, 5, 6, 7, 8, 9]))"
      ]
     },
     "execution_count": 79,
     "metadata": {},
     "output_type": "execute_result"
    }
   ],
   "source": [
    "np.unravel_index(batches[0], shape)"
   ]
  },
  {
   "cell_type": "code",
   "execution_count": null,
   "metadata": {},
   "outputs": [],
   "source": []
  }
 ],
 "metadata": {
  "kernelspec": {
   "display_name": "Python [conda env:harmonica]",
   "language": "python",
   "name": "conda-env-harmonica-py"
  },
  "language_info": {
   "codemirror_mode": {
    "name": "ipython",
    "version": 3
   },
   "file_extension": ".py",
   "mimetype": "text/x-python",
   "name": "python",
   "nbconvert_exporter": "python",
   "pygments_lexer": "ipython3",
   "version": "3.7.6"
  }
 },
 "nbformat": 4,
 "nbformat_minor": 4
}
